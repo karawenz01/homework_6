{
 "cells": [
  {
   "cell_type": "markdown",
   "metadata": {},
   "source": [
    "## WeatherPy\n"
   ]
  },
  {
   "cell_type": "code",
   "execution_count": 24,
   "metadata": {},
   "outputs": [
    {
     "name": "stdout",
     "output_type": "stream",
     "text": [
      "Requirement already satisfied: citipy in c:\\users\\emma\\anaconda3\\lib\\site-packages\n",
      "Requirement already satisfied: kdtree>=0.12 in c:\\users\\emma\\anaconda3\\lib\\site-packages (from citipy)\n"
     ]
    },
    {
     "name": "stderr",
     "output_type": "stream",
     "text": [
      "You are using pip version 9.0.1, however version 10.0.1 is available.\n",
      "You should consider upgrading via the 'python -m pip install --upgrade pip' command.\n"
     ]
    }
   ],
   "source": [
    "# import dependencies\n",
    "import json\n",
    "import requests\n",
    "from config import api_key\n",
    "!pip install citipy"
   ]
  },
  {
   "cell_type": "code",
   "execution_count": 199,
   "metadata": {},
   "outputs": [
    {
     "name": "stdout",
     "output_type": "stream",
     "text": [
      "511\n"
     ]
    }
   ],
   "source": [
    "# generate random latitude and longitude\n",
    "from random import uniform\n",
    "import numpy as np\n",
    "from citipy import citipy\n",
    "\n",
    "cities = []\n",
    "counter = 0\n",
    "\n",
    "for i in range(1100):\n",
    "    y = uniform(-180,180)\n",
    "    x = uniform(-90, 90)\n",
    "    city = citipy.nearest_city(x,y)\n",
    "    city = city.city_name\n",
    "\n",
    "    if city not in cities:\n",
    "        cities.append(city)\n",
    "        \n",
    "        counter += 1\n",
    "print(len(cities))"
   ]
  },
  {
   "cell_type": "code",
   "execution_count": 200,
   "metadata": {},
   "outputs": [
    {
     "data": {
      "text/plain": [
       "511"
      ]
     },
     "execution_count": 200,
     "metadata": {},
     "output_type": "execute_result"
    }
   ],
   "source": [
    "cities = list(set(cities))\n",
    "len(cities)"
   ]
  },
  {
   "cell_type": "code",
   "execution_count": 201,
   "metadata": {},
   "outputs": [
    {
     "name": "stdout",
     "output_type": "stream",
     "text": [
      "somerset\n",
      "http://api.openweathermap.org/data/2.5/weather?appid=25bc90a1196e6f153eece0bc0b0fc9eb&q=somerset&units=imperial\n",
      "The weather API responded with: {\n",
      "  \"coord\": {\n",
      "    \"lon\": -84.6,\n",
      "    \"lat\": 37.09\n",
      "  },\n",
      "  \"weather\": [\n",
      "    {\n",
      "      \"id\": 800,\n",
      "      \"main\": \"Clear\",\n",
      "      \"description\": \"clear sky\",\n",
      "      \"icon\": \"01n\"\n",
      "    }\n",
      "  ],\n",
      "  \"base\": \"stations\",\n",
      "  \"main\": {\n",
      "    \"temp\": 58.53,\n",
      "    \"pressure\": 1016,\n",
      "    \"humidity\": 77,\n",
      "    \"temp_min\": 55.4,\n",
      "    \"temp_max\": 60.8\n",
      "  },\n",
      "  \"visibility\": 16093,\n",
      "  \"wind\": {\n",
      "    \"speed\": 2.86,\n",
      "    \"deg\": 57\n",
      "  },\n",
      "  \"clouds\": {\n",
      "    \"all\": 1\n",
      "  },\n",
      "  \"dt\": 1528347360,\n",
      "  \"sys\": {\n",
      "    \"type\": 1,\n",
      "    \"id\": 1153,\n",
      "    \"message\": 0.004,\n",
      "    \"country\": \"US\",\n",
      "    \"sunrise\": 1528366706,\n",
      "    \"sunset\": 1528419389\n",
      "  },\n",
      "  \"id\": 4308922,\n",
      "  \"name\": \"Somerset\",\n",
      "  \"cod\": 200\n",
      "}.\n"
     ]
    }
   ],
   "source": [
    "# look at data\n",
    "city = cities[0]\n",
    "print(city)\n",
    "url = \"http://api.openweathermap.org/data/2.5/weather?\"\n",
    "units = 'imperial'\n",
    "query_url = url + \"appid=\" + api_key + \"&q=\" + city +  \"&units=\" + units\n",
    "print(query_url)\n",
    "weather_response = requests.get(query_url)\n",
    "weather_json = weather_response.json()\n",
    "print(f\"The weather API responded with: {json.dumps(weather_json, indent=2)}.\")\n"
   ]
  },
  {
   "cell_type": "code",
   "execution_count": 202,
   "metadata": {},
   "outputs": [
    {
     "name": "stdout",
     "output_type": "stream",
     "text": [
      "58.53 37.09 77 1 2.86 4308922\n"
     ]
    }
   ],
   "source": [
    "print(\n",
    "    weather_json['main']['temp'],\n",
    "    weather_json['coord']['lat'],\n",
    "    weather_json['main']['humidity'],\n",
    "    weather_json['clouds']['all'],\n",
    "    weather_json['wind']['speed'],\n",
    "    weather_json['id']\n",
    ")"
   ]
  },
  {
   "cell_type": "code",
   "execution_count": 205,
   "metadata": {
    "scrolled": true
   },
   "outputs": [],
   "source": [
    "# gather info \n",
    "url = \"http://api.openweathermap.org/data/2.5/weather?\"\n",
    "units = 'Imperial'\n",
    "temp = []\n",
    "name = []\n",
    "humidity = []\n",
    "lat = []\n",
    "cloudiness = []\n",
    "wind_speed = []\n",
    "city_id = []\n",
    "for city in cities:\n",
    "    query_url = url + \"appid=\" + api_key + \"&q=\" + city +  \"&units=\" + units\n",
    "    response = requests.get(query_url)\n",
    "    weather_json = response.json()\n",
    "    \n",
    "    try:\n",
    "        temp.append(weather_json['main']['temp'])\n",
    "        humidity.append(weather_json['main']['humidity'])\n",
    "        lat.append(weather_json['coord']['lat'])\n",
    "        cloudiness.append(weather_json['clouds']['all'])\n",
    "        wind_speed.append(weather_json['wind']['speed'])\n",
    "        name.append(weather_json['name'])\n",
    "        city_id.append(weather_json['id'])\n",
    "    except KeyError:\n",
    "        temp = temp\n",
    "        humidity = humidity\n",
    "        lat = lat\n",
    "        cloudiness = cloudiness\n",
    "        wind_speed = wind_speed\n",
    "        city_id = city_id\n",
    "    \n",
    "    \n",
    "    \n",
    "    "
   ]
  },
  {
   "cell_type": "code",
   "execution_count": 227,
   "metadata": {},
   "outputs": [
    {
     "data": {
      "text/plain": [
       "460"
      ]
     },
     "execution_count": 227,
     "metadata": {},
     "output_type": "execute_result"
    }
   ],
   "source": [
    "# print(temp)\n",
    "len(temp)"
   ]
  },
  {
   "cell_type": "code",
   "execution_count": 207,
   "metadata": {},
   "outputs": [],
   "source": [
    "data = {\n",
    "    'Name': name,\n",
    "    'Latitude': lat,\n",
    "    'Temperature': temp,\n",
    "    'Humidity': humidity,\n",
    "    'Cloudiness': cloudiness,\n",
    "    'Wind Speed': wind_speed\n",
    "}\n"
   ]
  },
  {
   "cell_type": "code",
   "execution_count": 208,
   "metadata": {},
   "outputs": [],
   "source": [
    "import pandas as pd\n",
    "weather_df = pd.DataFrame(\n",
    "    data\n",
    ")\n"
   ]
  },
  {
   "cell_type": "code",
   "execution_count": 209,
   "metadata": {},
   "outputs": [],
   "source": [
    "weather_df.head()\n",
    "weather_df = weather_df.set_index('Name')"
   ]
  },
  {
   "cell_type": "code",
   "execution_count": 212,
   "metadata": {},
   "outputs": [
    {
     "data": {
      "text/html": [
       "<div>\n",
       "<style scoped>\n",
       "    .dataframe tbody tr th:only-of-type {\n",
       "        vertical-align: middle;\n",
       "    }\n",
       "\n",
       "    .dataframe tbody tr th {\n",
       "        vertical-align: top;\n",
       "    }\n",
       "\n",
       "    .dataframe thead th {\n",
       "        text-align: right;\n",
       "    }\n",
       "</style>\n",
       "<table border=\"1\" class=\"dataframe\">\n",
       "  <thead>\n",
       "    <tr style=\"text-align: right;\">\n",
       "      <th></th>\n",
       "      <th>Cloudiness</th>\n",
       "      <th>Humidity</th>\n",
       "      <th>Latitude</th>\n",
       "      <th>Temperature</th>\n",
       "      <th>Wind Speed</th>\n",
       "    </tr>\n",
       "    <tr>\n",
       "      <th>Name</th>\n",
       "      <th></th>\n",
       "      <th></th>\n",
       "      <th></th>\n",
       "      <th></th>\n",
       "      <th></th>\n",
       "    </tr>\n",
       "  </thead>\n",
       "  <tbody>\n",
       "    <tr>\n",
       "      <th>Somerset</th>\n",
       "      <td>1</td>\n",
       "      <td>77</td>\n",
       "      <td>37.09</td>\n",
       "      <td>58.53</td>\n",
       "      <td>2.86</td>\n",
       "    </tr>\n",
       "    <tr>\n",
       "      <th>Sistranda</th>\n",
       "      <td>75</td>\n",
       "      <td>93</td>\n",
       "      <td>63.73</td>\n",
       "      <td>48.20</td>\n",
       "      <td>19.46</td>\n",
       "    </tr>\n",
       "    <tr>\n",
       "      <th>Te Anau</th>\n",
       "      <td>64</td>\n",
       "      <td>96</td>\n",
       "      <td>-45.41</td>\n",
       "      <td>35.87</td>\n",
       "      <td>1.81</td>\n",
       "    </tr>\n",
       "    <tr>\n",
       "      <th>Lorengau</th>\n",
       "      <td>36</td>\n",
       "      <td>100</td>\n",
       "      <td>-2.02</td>\n",
       "      <td>81.05</td>\n",
       "      <td>4.99</td>\n",
       "    </tr>\n",
       "    <tr>\n",
       "      <th>Teguldet</th>\n",
       "      <td>44</td>\n",
       "      <td>54</td>\n",
       "      <td>57.31</td>\n",
       "      <td>76.55</td>\n",
       "      <td>3.53</td>\n",
       "    </tr>\n",
       "  </tbody>\n",
       "</table>\n",
       "</div>"
      ],
      "text/plain": [
       "           Cloudiness  Humidity  Latitude  Temperature  Wind Speed\n",
       "Name                                                              \n",
       "Somerset            1        77     37.09        58.53        2.86\n",
       "Sistranda          75        93     63.73        48.20       19.46\n",
       "Te Anau            64        96    -45.41        35.87        1.81\n",
       "Lorengau           36       100     -2.02        81.05        4.99\n",
       "Teguldet           44        54     57.31        76.55        3.53"
      ]
     },
     "execution_count": 212,
     "metadata": {},
     "output_type": "execute_result"
    }
   ],
   "source": [
    "weather_df.head()"
   ]
  },
  {
   "cell_type": "code",
   "execution_count": 213,
   "metadata": {},
   "outputs": [],
   "source": [
    "\n",
    "weather_df.to_csv('weather_data.csv')"
   ]
  },
  {
   "cell_type": "code",
   "execution_count": 214,
   "metadata": {},
   "outputs": [],
   "source": [
    "import matplotlib.pyplot as plt"
   ]
  },
  {
   "cell_type": "code",
   "execution_count": 223,
   "metadata": {},
   "outputs": [
    {
     "data": {
      "image/png": "[encoded data removed]",
      "text/plain": [
       "<matplotlib.figure.Figure at 0x28b33d76da0>"
      ]
     },
     "metadata": {},
     "output_type": "display_data"
    }
   ],
   "source": [
    "# temp vs lat\n",
    "\n",
    "plt.scatter(weather_df['Latitude'], weather_df['Temperature'], color='yellow')\n",
    "plt.xlabel('Latitude')\n",
    "plt.ylabel('Temperature (F)')\n",
    "plt.title('Temperature v Latitude (06 June 2018)')\n",
    "plt.savefig('temp_v_lat.png', bbox_inches='tight')"
   ]
  },
  {
   "cell_type": "code",
   "execution_count": 224,
   "metadata": {
    "scrolled": true
   },
   "outputs": [
    {
     "data": {
      "image/png": "[encoded data removed]",
      "text/plain": [
       "<matplotlib.figure.Figure at 0x28b33e44eb8>"
      ]
     },
     "metadata": {},
     "output_type": "display_data"
    }
   ],
   "source": [
    "# humidity vs lat\n",
    "plt.scatter(weather_df['Latitude'], weather_df['Humidity'], color='blue')\n",
    "plt.xlabel('Latitude')\n",
    "plt.ylabel('Temperature (F)')\n",
    "plt.title('Humidity v Latitude (06 June 2018)')\n",
    "plt.savefig('humidity_v_lat.png', bbox_inches='tight')"
   ]
  },
  {
   "cell_type": "code",
   "execution_count": 225,
   "metadata": {},
   "outputs": [
    {
     "data": {
      "image/png": "[encoded data removed]",
      "text/plain": [
       "<matplotlib.figure.Figure at 0x28b33eaaf98>"
      ]
     },
     "metadata": {},
     "output_type": "display_data"
    }
   ],
   "source": [
    "# cloudiness vs lat\n",
    "plt.scatter(weather_df['Latitude'], weather_df['Cloudiness'], color='orange')\n",
    "plt.xlabel('Latitude')\n",
    "plt.ylabel('Cloudiness (%)')\n",
    "plt.title('Cloudiness v Latitude (06 June 2018)')\n",
    "plt.savefig('cloudiness_v_lat.png', bbox_inches='tight')"
   ]
  },
  {
   "cell_type": "code",
   "execution_count": 226,
   "metadata": {},
   "outputs": [
    {
     "data": {
      "image/png": "[encoded data removed]",
      "text/plain": [
       "<matplotlib.figure.Figure at 0x28b33f0dda0>"
      ]
     },
     "metadata": {},
     "output_type": "display_data"
    }
   ],
   "source": [
    "# wind speed vs lat\n",
    "plt.scatter(weather_df['Latitude'], weather_df['Wind Speed'], color='green')\n",
    "plt.xlabel('Latitude')\n",
    "plt.ylabel('Wind Speed (MPH)')\n",
    "plt.title('Wind Speed v Latitude (06 June 2018)')\n",
    "plt.savefig('wind_v_lat.png', bbox_inches='tight')"
   ]
  },
  {
   "cell_type": "code",
   "execution_count": null,
   "metadata": {},
   "outputs": [],
   "source": []
  }
 ],
 "metadata": {
  "kernelspec": {
   "display_name": "Python 3",
   "language": "python",
   "name": "python3"
  },
  "language_info": {
   "codemirror_mode": {
    "name": "ipython",
    "version": 3
   },
   "file_extension": ".py",
   "mimetype": "text/x-python",
   "name": "python",
   "nbconvert_exporter": "python",
   "pygments_lexer": "ipython3",
   "version": "3.6.4"
  }
 },
 "nbformat": 4,
 "nbformat_minor": 2
}
